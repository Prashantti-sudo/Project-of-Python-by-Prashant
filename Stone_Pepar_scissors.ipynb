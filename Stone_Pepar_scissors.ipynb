{
 "cells": [
  {
   "cell_type": "code",
   "execution_count": 3,
   "id": "4b29c57f-cd9f-409c-9711-acfef7b2fef7",
   "metadata": {},
   "outputs": [],
   "source": [
    "import random"
   ]
  },
  {
   "cell_type": "code",
   "execution_count": 13,
   "id": "e1c781dd-a8ac-40ad-aed9-4ea442b88a30",
   "metadata": {},
   "outputs": [
    {
     "name": "stdin",
     "output_type": "stream",
     "text": [
      "Usser Taking No : 1\n"
     ]
    },
    {
     "name": "stdout",
     "output_type": "stream",
     "text": [
      "COmputer Taking Number : 3\n",
      "Usser win\n"
     ]
    }
   ],
   "source": [
    "Com = random.randint(1,3)\n",
    "Usser = int(input(\"Usser Taking No :\"))\n",
    "1 == \"Stone\"\n",
    "2== \"Pepar\"\n",
    "3 == \"Scissors\"\n",
    "print(\"COmputer Taking Number :\",Com)\n",
    "if (Com == 1) and (user == 2) :\n",
    "   print(\"usser win\")\n",
    "elif (Com == 1) and (Usser ==3) :\n",
    "     print(\"Com win\")\n",
    "elif (Com == 1) and (Usser ==1) :\n",
    "     print(\"Game Draw\")    \n",
    "elif (Com == 2) and (Usser ==1) :\n",
    "     print(\"Com win  "
   ]
  },
  {
   "cell_type": "code",
   "execution_count": 15,
   "id": "c93f74e6-bd0c-4063-a8eb-fbf86bd811e7",
   "metadata": {},
   "outputs": [
    {
     "name": "stdin",
     "output_type": "stream",
     "text": [
      "User Taking No (1: Stone, 2: Paper, 3: Scissors):  1\n"
     ]
    },
    {
     "name": "stdout",
     "output_type": "stream",
     "text": [
      "Computer chose: Scissors\n",
      "User chose: Stone\n",
      "User wins!\n"
     ]
    }
   ],
   "source": [
    "import random\n",
    "\n",
    "Com = random.randint(1, 3)\n",
    "\n",
    "Usser = int(input(\"User Taking No (1: Stone, 2: Paper, 3: Scissors): \"))\n",
    "\n",
    "\n",
    "choices = {1: \"Stone\", 2: \"Paper\", 3: \"Scissors\"}\n",
    "\n",
    "print(f\"Computer chose: {choices[Com]}\")\n",
    "print(f\"User chose: {choices[Usser]}\")\n",
    "\n",
    "if (Com == 1 and Usser == 2) or (Com == 2 and Usser == 3) or (Com == 3 and Usser == 1):\n",
    "    print(\"User wins!\")\n",
    "elif Com == Usser:\n",
    "    print(\"Game Draw!\")\n",
    "else:\n",
    "    print(\"Computer wins!\")"
   ]
  }
 ],
 "metadata": {
  "kernelspec": {
   "display_name": "Python 3 (ipykernel)",
   "language": "python",
   "name": "python3"
  },
  "language_info": {
   "codemirror_mode": {
    "name": "ipython",
    "version": 3
   },
   "file_extension": ".py",
   "mimetype": "text/x-python",
   "name": "python",
   "nbconvert_exporter": "python",
   "pygments_lexer": "ipython3",
   "version": "3.12.7"
  }
 },
 "nbformat": 4,
 "nbformat_minor": 5
}
