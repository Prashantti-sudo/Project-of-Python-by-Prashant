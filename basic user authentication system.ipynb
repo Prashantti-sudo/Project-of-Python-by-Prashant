{
 "cells": [
  {
   "cell_type": "code",
   "execution_count": 21,
   "id": "97d91f25-17bb-4fa2-8adb-f60c3de7c15a",
   "metadata": {},
   "outputs": [
    {
     "name": "stdin",
     "output_type": "stream",
     "text": [
      "Enter Ur Username: Tops@123\n",
      "enter ur mobile no  2.53535644664\n"
     ]
    },
    {
     "name": "stdout",
     "output_type": "stream",
     "text": [
      "Please Enter Vaild Mobile Number(INT) :\n"
     ]
    }
   ],
   "source": [
    "Usser = input(\"Enter Ur Username:\")\n",
    "if Usser == \"Tops@123\" or Usser ==  \"top@123\" :\n",
    "    try : \n",
    "       MObile_no = int(input(\"enter ur mobile no \"))\n",
    "       if len(str(MObile_no)) == 10:\n",
    "          print(\"CONGRATULATIONS ,Welcome To our web : \")\n",
    "       else :\n",
    "         print(\"Enter 10 digit number in Mobile_no:\")\n",
    "    except ValueError : \n",
    "         print(\"Please Enter Vaild Mobile Number(INT) :\")\n",
    "else : \n",
    "    print(\"enter Vaild Username :\")"
   ]
  }
 ],
 "metadata": {
  "kernelspec": {
   "display_name": "Python 3 (ipykernel)",
   "language": "python",
   "name": "python3"
  },
  "language_info": {
   "codemirror_mode": {
    "name": "ipython",
    "version": 3
   },
   "file_extension": ".py",
   "mimetype": "text/x-python",
   "name": "python",
   "nbconvert_exporter": "python",
   "pygments_lexer": "ipython3",
   "version": "3.12.7"
  }
 },
 "nbformat": 4,
 "nbformat_minor": 5
}
