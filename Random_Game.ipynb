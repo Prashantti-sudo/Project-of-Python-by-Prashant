{
 "cells": [
  {
   "cell_type": "code",
   "execution_count": 1,
   "id": "f7862b1d-5ed8-4683-bdb5-dac71090487b",
   "metadata": {},
   "outputs": [],
   "source": [
    "import random"
   ]
  },
  {
   "cell_type": "code",
   "execution_count": 70,
   "id": "9b74c3ac-1da7-48e4-85f2-1d1c600be5ea",
   "metadata": {},
   "outputs": [
    {
     "name": "stdin",
     "output_type": "stream",
     "text": [
      "Enter ur Number: 22.5\n"
     ]
    },
    {
     "name": "stdout",
     "output_type": "stream",
     "text": [
      "Please Enter Vaild Number(int)!\n"
     ]
    },
    {
     "name": "stdin",
     "output_type": "stream",
     "text": [
      "Enter ur Number: 52\n"
     ]
    },
    {
     "name": "stdout",
     "output_type": "stream",
     "text": [
      "Enter Higher Value:\n"
     ]
    },
    {
     "name": "stdin",
     "output_type": "stream",
     "text": [
      "Enter ur Number: 90\n"
     ]
    },
    {
     "name": "stdout",
     "output_type": "stream",
     "text": [
      "Enter Lower Value:\n"
     ]
    },
    {
     "name": "stdin",
     "output_type": "stream",
     "text": [
      "Enter ur Number: 80\n"
     ]
    },
    {
     "name": "stdout",
     "output_type": "stream",
     "text": [
      "Enter Lower Value:\n"
     ]
    },
    {
     "name": "stdin",
     "output_type": "stream",
     "text": [
      "Enter ur Number: 70\n"
     ]
    },
    {
     "name": "stdout",
     "output_type": "stream",
     "text": [
      "Enter Lower Value:\n"
     ]
    },
    {
     "name": "stdin",
     "output_type": "stream",
     "text": [
      "Enter ur Number: 60\n"
     ]
    },
    {
     "name": "stdout",
     "output_type": "stream",
     "text": [
      "Enter Higher Value:\n"
     ]
    },
    {
     "name": "stdin",
     "output_type": "stream",
     "text": [
      "Enter ur Number: 65\n"
     ]
    },
    {
     "name": "stdout",
     "output_type": "stream",
     "text": [
      "Congratulations It's Match in 6 Attempt :\n"
     ]
    }
   ],
   "source": [
    "Computer = random.randint(1,100)\n",
    "Attempt = 0\n",
    "while True : \n",
    "   try :\n",
    "      User = int(input(\"Enter ur Number:\"))\n",
    "      Attempt +=1\n",
    "    \n",
    "      if (Computer > User) :\n",
    "            print(\"Enter Higher Value:\")\n",
    "      elif (User > Computer):\n",
    "            print(\"Enter Lower Value:\") \n",
    "      else :\n",
    "            print(f\"Congratulations It's Match in {Attempt} Attempt :\")\n",
    "            break\n",
    "   except ValueError:\n",
    "        print(\"Please Enter Vaild Number(int)!\") "
   ]
  }
 ],
 "metadata": {
  "kernelspec": {
   "display_name": "Python 3 (ipykernel)",
   "language": "python",
   "name": "python3"
  },
  "language_info": {
   "codemirror_mode": {
    "name": "ipython",
    "version": 3
   },
   "file_extension": ".py",
   "mimetype": "text/x-python",
   "name": "python",
   "nbconvert_exporter": "python",
   "pygments_lexer": "ipython3",
   "version": "3.12.7"
  }
 },
 "nbformat": 4,
 "nbformat_minor": 5
}
