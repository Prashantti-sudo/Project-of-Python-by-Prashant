{
 "cells": [
  {
   "cell_type": "markdown",
   "id": "d06b448c-4492-41e9-9ded-a4d6c2354e54",
   "metadata": {},
   "source": [
    "***Calculator***"
   ]
  },
  {
   "cell_type": "code",
   "execution_count": 28,
   "id": "2b217906-821d-403b-87aa-189a6f1162c3",
   "metadata": {},
   "outputs": [
    {
     "name": "stdin",
     "output_type": "stream",
     "text": [
      "Enter ur number 1 21\n",
      "enter ur number 2 7\n",
      "enter ur choice /\n"
     ]
    },
    {
     "name": "stdout",
     "output_type": "stream",
     "text": [
      "Division:3.0\n"
     ]
    }
   ],
   "source": [
    "def Sum(x,y) :\n",
    "     return x+y\n",
    "def Subtract(x,y) :\n",
    "     return x-y \n",
    "def Multiple(x,y) :\n",
    "    return x*y\n",
    "def Division(x,y) :\n",
    "    if y == 0:\n",
    "        print(\"ZeroError\")\n",
    "    else :\n",
    "         return x/y   \n",
    "    \n",
    "       \n",
    "x  = int(input(\"Enter ur number 1\"))\n",
    "y = int(input(\"enter ur number 2\"))\n",
    "choice = input(\"enter ur choice\")\n",
    "if choice == \"+\" :\n",
    "    print(f\"Sum:{sum(x,y)}\")\n",
    "elif choice == \"-\" :   \n",
    "    print(f\"Subtract:{Subtract(x,y)}\")\n",
    "elif choice == \"*\" :\n",
    "    print(f\"Multiple:{Multiple(x,y)}\")\n",
    "elif choice == \"/\" :\n",
    "    print(f\"Division:{Division(x,y)}\")\n",
    "\n",
    "    "
   ]
  }
 ],
 "metadata": {
  "kernelspec": {
   "display_name": "Python 3 (ipykernel)",
   "language": "python",
   "name": "python3"
  },
  "language_info": {
   "codemirror_mode": {
    "name": "ipython",
    "version": 3
   },
   "file_extension": ".py",
   "mimetype": "text/x-python",
   "name": "python",
   "nbconvert_exporter": "python",
   "pygments_lexer": "ipython3",
   "version": "3.12.7"
  }
 },
 "nbformat": 4,
 "nbformat_minor": 5
}
